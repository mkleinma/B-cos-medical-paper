{
 "cells": [
  {
   "cell_type": "code",
   "execution_count": null,
   "metadata": {},
   "outputs": [
    {
     "name": "stderr",
     "output_type": "stream",
     "text": [
      "Processing DICOMs:   5%|▍         | 676/15000 [00:30<10:55, 21.86it/s]\n"
     ]
    },
    {
     "ename": "KeyboardInterrupt",
     "evalue": "",
     "output_type": "error",
     "traceback": [
      "\u001b[1;31m---------------------------------------------------------------------------\u001b[0m",
      "\u001b[1;31mKeyboardInterrupt\u001b[0m                         Traceback (most recent call last)",
      "Cell \u001b[1;32mIn[5], line 18\u001b[0m\n\u001b[0;32m     16\u001b[0m dicom_path \u001b[38;5;241m=\u001b[39m os\u001b[38;5;241m.\u001b[39mpath\u001b[38;5;241m.\u001b[39mjoin(ORIGINAL_DICOM_FOLDER, \u001b[38;5;124mf\u001b[39m\u001b[38;5;124m\"\u001b[39m\u001b[38;5;132;01m{\u001b[39;00mimage_id\u001b[38;5;132;01m}\u001b[39;00m\u001b[38;5;124m.dicom\u001b[39m\u001b[38;5;124m\"\u001b[39m)\n\u001b[0;32m     17\u001b[0m \u001b[38;5;28;01mtry\u001b[39;00m:\n\u001b[1;32m---> 18\u001b[0m     ds \u001b[38;5;241m=\u001b[39m \u001b[43mpydicom\u001b[49m\u001b[38;5;241;43m.\u001b[39;49m\u001b[43mdcmread\u001b[49m\u001b[43m(\u001b[49m\u001b[43mdicom_path\u001b[49m\u001b[43m)\u001b[49m\n\u001b[0;32m     19\u001b[0m     original_dims[image_id] \u001b[38;5;241m=\u001b[39m (ds\u001b[38;5;241m.\u001b[39mColumns, ds\u001b[38;5;241m.\u001b[39mRows)\n\u001b[0;32m     20\u001b[0m \u001b[38;5;28;01mexcept\u001b[39;00m \u001b[38;5;167;01mException\u001b[39;00m \u001b[38;5;28;01mas\u001b[39;00m e:\n",
      "File \u001b[1;32mc:\\Users\\Admin\\AppData\\Local\\Programs\\Python\\Python312\\Lib\\site-packages\\pydicom\\filereader.py:1078\u001b[0m, in \u001b[0;36mdcmread\u001b[1;34m(fp, defer_size, stop_before_pixels, force, specific_tags)\u001b[0m\n\u001b[0;32m   1076\u001b[0m     stop_when \u001b[38;5;241m=\u001b[39m _at_pixel_data\n\u001b[0;32m   1077\u001b[0m \u001b[38;5;28;01mtry\u001b[39;00m:\n\u001b[1;32m-> 1078\u001b[0m     dataset \u001b[38;5;241m=\u001b[39m \u001b[43mread_partial\u001b[49m\u001b[43m(\u001b[49m\n\u001b[0;32m   1079\u001b[0m \u001b[43m        \u001b[49m\u001b[43mfp\u001b[49m\u001b[43m,\u001b[49m\n\u001b[0;32m   1080\u001b[0m \u001b[43m        \u001b[49m\u001b[43mstop_when\u001b[49m\u001b[43m,\u001b[49m\n\u001b[0;32m   1081\u001b[0m \u001b[43m        \u001b[49m\u001b[43mdefer_size\u001b[49m\u001b[38;5;241;43m=\u001b[39;49m\u001b[43msize_in_bytes\u001b[49m\u001b[43m(\u001b[49m\u001b[43mdefer_size\u001b[49m\u001b[43m)\u001b[49m\u001b[43m,\u001b[49m\n\u001b[0;32m   1082\u001b[0m \u001b[43m        \u001b[49m\u001b[43mforce\u001b[49m\u001b[38;5;241;43m=\u001b[39;49m\u001b[43mforce\u001b[49m\u001b[43m,\u001b[49m\n\u001b[0;32m   1083\u001b[0m \u001b[43m        \u001b[49m\u001b[43mspecific_tags\u001b[49m\u001b[38;5;241;43m=\u001b[39;49m\u001b[43mspecific_tags\u001b[49m\u001b[43m,\u001b[49m\n\u001b[0;32m   1084\u001b[0m \u001b[43m    \u001b[49m\u001b[43m)\u001b[49m\n\u001b[0;32m   1085\u001b[0m \u001b[38;5;28;01mfinally\u001b[39;00m:\n\u001b[0;32m   1086\u001b[0m     \u001b[38;5;28;01mif\u001b[39;00m \u001b[38;5;129;01mnot\u001b[39;00m caller_owns_file:\n",
      "File \u001b[1;32mc:\\Users\\Admin\\AppData\\Local\\Programs\\Python\\Python312\\Lib\\site-packages\\pydicom\\filereader.py:924\u001b[0m, in \u001b[0;36mread_partial\u001b[1;34m(fileobj, stop_when, defer_size, force, specific_tags)\u001b[0m\n\u001b[0;32m    920\u001b[0m \u001b[38;5;66;03m# Try and decode the dataset\u001b[39;00m\n\u001b[0;32m    921\u001b[0m \u001b[38;5;66;03m#   By this point we should be at the start of the dataset and have\u001b[39;00m\n\u001b[0;32m    922\u001b[0m \u001b[38;5;66;03m#   the transfer syntax (whether read from the file meta or guessed at)\u001b[39;00m\n\u001b[0;32m    923\u001b[0m \u001b[38;5;28;01mtry\u001b[39;00m:\n\u001b[1;32m--> 924\u001b[0m     dataset \u001b[38;5;241m=\u001b[39m \u001b[43mread_dataset\u001b[49m\u001b[43m(\u001b[49m\n\u001b[0;32m    925\u001b[0m \u001b[43m        \u001b[49m\u001b[43mfileobj\u001b[49m\u001b[43m,\u001b[49m\n\u001b[0;32m    926\u001b[0m \u001b[43m        \u001b[49m\u001b[43mis_implicit_VR\u001b[49m\u001b[43m,\u001b[49m\n\u001b[0;32m    927\u001b[0m \u001b[43m        \u001b[49m\u001b[43mis_little_endian\u001b[49m\u001b[43m,\u001b[49m\n\u001b[0;32m    928\u001b[0m \u001b[43m        \u001b[49m\u001b[43mstop_when\u001b[49m\u001b[38;5;241;43m=\u001b[39;49m\u001b[43mstop_when\u001b[49m\u001b[43m,\u001b[49m\n\u001b[0;32m    929\u001b[0m \u001b[43m        \u001b[49m\u001b[43mdefer_size\u001b[49m\u001b[38;5;241;43m=\u001b[39;49m\u001b[43mdefer_size\u001b[49m\u001b[43m,\u001b[49m\n\u001b[0;32m    930\u001b[0m \u001b[43m        \u001b[49m\u001b[43mspecific_tags\u001b[49m\u001b[38;5;241;43m=\u001b[39;49m\u001b[43mspecific_tags\u001b[49m\u001b[43m,\u001b[49m\n\u001b[0;32m    931\u001b[0m \u001b[43m    \u001b[49m\u001b[43m)\u001b[49m\n\u001b[0;32m    932\u001b[0m \u001b[38;5;28;01mexcept\u001b[39;00m \u001b[38;5;167;01mEOFError\u001b[39;00m:\n\u001b[0;32m    933\u001b[0m     \u001b[38;5;28;01mif\u001b[39;00m config\u001b[38;5;241m.\u001b[39msettings\u001b[38;5;241m.\u001b[39mreading_validation_mode \u001b[38;5;241m==\u001b[39m config\u001b[38;5;241m.\u001b[39mRAISE:\n",
      "File \u001b[1;32mc:\\Users\\Admin\\AppData\\Local\\Programs\\Python\\Python312\\Lib\\site-packages\\pydicom\\filereader.py:476\u001b[0m, in \u001b[0;36mread_dataset\u001b[1;34m(fp, is_implicit_VR, is_little_endian, bytelength, stop_when, defer_size, parent_encoding, specific_tags, at_top_level)\u001b[0m\n\u001b[0;32m    474\u001b[0m \u001b[38;5;28;01mtry\u001b[39;00m:\n\u001b[0;32m    475\u001b[0m     \u001b[38;5;28;01mif\u001b[39;00m bytelength \u001b[38;5;129;01mis\u001b[39;00m \u001b[38;5;28;01mNone\u001b[39;00m:\n\u001b[1;32m--> 476\u001b[0m         raw_data_elements \u001b[38;5;241m=\u001b[39m \u001b[43m{\u001b[49m\u001b[43me\u001b[49m\u001b[38;5;241;43m.\u001b[39;49m\u001b[43mtag\u001b[49m\u001b[43m:\u001b[49m\u001b[43m \u001b[49m\u001b[43me\u001b[49m\u001b[43m \u001b[49m\u001b[38;5;28;43;01mfor\u001b[39;49;00m\u001b[43m \u001b[49m\u001b[43me\u001b[49m\u001b[43m \u001b[49m\u001b[38;5;129;43;01min\u001b[39;49;00m\u001b[43m \u001b[49m\u001b[43mde_gen\u001b[49m\u001b[43m}\u001b[49m\n\u001b[0;32m    477\u001b[0m     \u001b[38;5;28;01melse\u001b[39;00m:\n\u001b[0;32m    478\u001b[0m         \u001b[38;5;28;01mwhile\u001b[39;00m fp_tell() \u001b[38;5;241m-\u001b[39m fp_start \u001b[38;5;241m<\u001b[39m bytelength:\n",
      "File \u001b[1;32mc:\\Users\\Admin\\AppData\\Local\\Programs\\Python\\Python312\\Lib\\site-packages\\pydicom\\filereader.py:237\u001b[0m, in \u001b[0;36mdata_element_generator\u001b[1;34m(fp, is_implicit_VR, is_little_endian, stop_when, defer_size, encoding, specific_tags)\u001b[0m\n\u001b[0;32m    234\u001b[0m     fp_seek(fp_tell() \u001b[38;5;241m+\u001b[39m length)\n\u001b[0;32m    235\u001b[0m \u001b[38;5;28;01melse\u001b[39;00m:\n\u001b[0;32m    236\u001b[0m     value \u001b[38;5;241m=\u001b[39m (\n\u001b[1;32m--> 237\u001b[0m         \u001b[43mfp_read\u001b[49m\u001b[43m(\u001b[49m\u001b[43mlength\u001b[49m\u001b[43m)\u001b[49m\n\u001b[0;32m    238\u001b[0m         \u001b[38;5;28;01mif\u001b[39;00m length \u001b[38;5;241m>\u001b[39m \u001b[38;5;241m0\u001b[39m\n\u001b[0;32m    239\u001b[0m         \u001b[38;5;28;01melse\u001b[39;00m cast(\u001b[38;5;28mbytes\u001b[39m \u001b[38;5;241m|\u001b[39m \u001b[38;5;28;01mNone\u001b[39;00m, empty_value_for_VR(vr, raw\u001b[38;5;241m=\u001b[39m\u001b[38;5;28;01mTrue\u001b[39;00m))\n\u001b[0;32m    240\u001b[0m     )\n\u001b[0;32m    241\u001b[0m     \u001b[38;5;28;01mif\u001b[39;00m debugging:\n\u001b[0;32m    242\u001b[0m         dotdot \u001b[38;5;241m=\u001b[39m \u001b[38;5;124m\"\u001b[39m\u001b[38;5;124m...\u001b[39m\u001b[38;5;124m\"\u001b[39m \u001b[38;5;28;01mif\u001b[39;00m length \u001b[38;5;241m>\u001b[39m \u001b[38;5;241m20\u001b[39m \u001b[38;5;28;01melse\u001b[39;00m \u001b[38;5;124m\"\u001b[39m\u001b[38;5;124m   \u001b[39m\u001b[38;5;124m\"\u001b[39m\n",
      "\u001b[1;31mKeyboardInterrupt\u001b[0m: "
     ]
    }
   ],
   "source": [
    "import pandas as pd\n",
    "import pydicom\n",
    "import os\n",
    "from tqdm import tqdm\n",
    "\n",
    "ORIGINAL_DICOM_FOLDER = r\"D:\\vinbigdata-chest-xray-abnormalities-detection\\train\"\n",
    "ORIGINAL_CSV_PATH = r\"D:\\vinbigdata-chest-xray-abnormalities-detection\\train.csv\"\n",
    "NEW_CSV_PATH = r\"D:\\vinbigdata-chest-xray-abnormalities-detection\\train224.csv\"\n",
    "\n",
    "def scale_coordinates(row):\n",
    "    new_row = row.copy() \n",
    "\n",
    "    if pd.isna(row['x_min']): # skip healthy patients as only ill people have bounding boxes\n",
    "        return new_row\n",
    "    \n",
    "    original_width, original_height = original_dims[row['image_id']]\n",
    "    \n",
    "    # Skip invalid dimensions\n",
    "    if not original_width or not original_height:\n",
    "        new_row['x_min'] = new_row['y_min'] = new_row['x_max'] = new_row['y_max'] = None\n",
    "        return new_row\n",
    "    \n",
    "    # Calculate scaling factors\n",
    "    scale_x = 224 / original_width\n",
    "    scale_y = 224 / original_height\n",
    "    \n",
    "    new_row['x_min'] = max(0, min(round(row['x_min'] * scale_x), 223)) #223 for 224 pixels (224x224 images)\n",
    "    new_row['y_min'] = max(0, min(round(row['y_min'] * scale_y), 223))\n",
    "    new_row['x_max'] = max(0, min(round(row['x_max'] * scale_x), 223)) \n",
    "    new_row['y_max'] = max(0, min(round(row['y_max'] * scale_y), 223))\n",
    "    \n",
    "    return new_row\n",
    "\n",
    "\n",
    "df = pd.read_csv(ORIGINAL_CSV_PATH)\n",
    "\n",
    "original_dims = {}\n",
    "\n",
    "# Preprocess all unique DICOM files\n",
    "for image_id in tqdm(df['image_id'].unique(), desc=\"Processing DICOMs\"):\n",
    "    dicom_path = os.path.join(ORIGINAL_DICOM_FOLDER, f\"{image_id}.dicom\")\n",
    "    try:\n",
    "        ds = pydicom.dcmread(dicom_path)\n",
    "        original_dims[image_id] = (ds.Columns, ds.Rows)\n",
    "    except Exception as e:\n",
    "        print(f\"Error at {image_id}: {str(e)}\")\n",
    "        original_dims[image_id] = (None, None)\n",
    "\n",
    "scaled_df = df.apply(scale_coordinates, axis=1)\n",
    "scaled_df.to_csv(NEW_CSV_PATH, index=False)"
   ]
  }
 ],
 "metadata": {
  "kernelspec": {
   "display_name": "Python 3",
   "language": "python",
   "name": "python3"
  },
  "language_info": {
   "codemirror_mode": {
    "name": "ipython",
    "version": 3
   },
   "file_extension": ".py",
   "mimetype": "text/x-python",
   "name": "python",
   "nbconvert_exporter": "python",
   "pygments_lexer": "ipython3",
   "version": "3.12.2"
  }
 },
 "nbformat": 4,
 "nbformat_minor": 2
}
