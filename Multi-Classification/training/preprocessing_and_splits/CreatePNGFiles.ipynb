{
 "cells": [
  {
   "cell_type": "markdown",
   "metadata": {},
   "source": [
    "# Convert dicom into .png for easier time processing the data "
   ]
  },
  {
   "cell_type": "code",
   "execution_count": null,
   "metadata": {},
   "outputs": [
    {
     "name": "stdout",
     "output_type": "stream",
     "text": [
      "📂 Checking DICOM files in: D:\\vinbigdata-chest-xray-abnormalities-detection\\train\n",
      "🔍 Found 15000 DICOM files.\n",
      "🎉 Conversion completed!\n"
     ]
    }
   ],
   "source": [
    "import os\n",
    "import pydicom\n",
    "import numpy as np\n",
    "from PIL import Image\n",
    "import shutil\n",
    "\n",
    "input_dir = r\"D:\\vinbigdata-chest-xray-abnormalities-detection\\train\"\n",
    "output_dir = r\"D:\\vinbigdata-chest-xray-abnormalities-detection\\train_png\"\n",
    "\n",
    "os.makedirs(output_dir, exist_ok=True)\n",
    "dicom_files = [f for f in os.listdir(input_dir) if f.lower().endswith(\".dicom\")]\n",
    "\n",
    "def convert_dicom_to_png(dicom_file):\n",
    "    try:\n",
    "        dicom_path = os.path.join(input_dir, dicom_file)\n",
    "        output_path = os.path.join(output_dir, dicom_file.replace(\".dicom\", \".png\"))\n",
    "\n",
    "        dicom = pydicom.dcmread(dicom_path)\n",
    "        image = dicom.pixel_array  # Get pixel data\n",
    "\n",
    "        # Check the Photometric Interpretation --- this is due to the dataset having inversions!\n",
    "        photometric_interpretation = dicom.get(\"PhotometricInterpretation\", \"UNKNOWN\")\n",
    "        if photometric_interpretation == \"MONOCHROME1\":\n",
    "            image = np.invert(image)\n",
    "\n",
    "        if image.dtype != np.uint8:\n",
    "            image = (image - image.min()) / (image.max() - image.min()) * 255\n",
    "            image = image.astype(np.uint8)\n",
    "        image_rgb = Image.fromarray(image).convert(\"RGB\")\n",
    "        image_rgb.save(output_path, \"PNG\")\n",
    "    except Exception as e:\n",
    "        print(f\"Error processing {dicom_file}: {e}\")\n",
    "\n",
    "for dicom_file in dicom_files:\n",
    "    convert_dicom_to_png(dicom_file)\n",
    "\n",
    "print(\"Done!\")\n",
    "\n"
   ]
  },
  {
   "cell_type": "markdown",
   "metadata": {},
   "source": [
    "# Access Metadata"
   ]
  },
  {
   "cell_type": "code",
   "execution_count": null,
   "metadata": {},
   "outputs": [
    {
     "name": "stdout",
     "output_type": "stream",
     "text": [
      "Dataset.file_meta -------------------------------\n",
      "(0002,0000) File Meta Information Group Length  UL: 166\n",
      "(0002,0001) File Meta Information Version       OB: b'\\x00\\x01'\n",
      "(0002,0002) Media Storage SOP Class UID         UI: Digital X-Ray Image Storage - For Presentation\n",
      "(0002,0003) Media Storage SOP Instance UID      UI: 01a1e85c56486eccd29f3e824e745c2a\n",
      "(0002,0010) Transfer Syntax UID                 UI: JPEG 2000 Image Compression (Lossless Only)\n",
      "(0002,0012) Implementation Class UID            UI: 1.2.3.4\n",
      "(0002,0013) Implementation Version Name         SH: 'INF_3.9'\n",
      "(0002,0016) Source Application Entity Title     AE: 'TITAN'\n",
      "-------------------------------------------------\n",
      "(0010,0040) Patient's Sex                       CS: 'M'\n",
      "(0010,1010) Patient's Age                       AS: '000Y'\n",
      "(0028,0002) Samples per Pixel                   US: 1\n",
      "(0028,0004) Photometric Interpretation          CS: 'MONOCHROME2'\n",
      "(0028,0008) Number of Frames                    IS: '1'\n",
      "(0028,0010) Rows                                US: 2806\n",
      "(0028,0011) Columns                             US: 2376\n",
      "(0028,0030) Pixel Spacing                       DS: [0.141, 0.141]\n",
      "(0028,0034) Pixel Aspect Ratio                  IS: None\n",
      "(0028,0100) Bits Allocated                      US: 16\n",
      "(0028,0101) Bits Stored                         US: 16\n",
      "(0028,0102) High Bit                            US: 15\n",
      "(0028,0103) Pixel Representation                US: 0\n",
      "(0028,1050) Window Center                       DS: '32767'\n",
      "(0028,1051) Window Width                        DS: '65535'\n",
      "(0028,2110) Lossy Image Compression             CS: '00'\n",
      "(7FE0,0010) Pixel Data                          OB: Array of 8325246 elements\n"
     ]
    },
    {
     "name": "stderr",
     "output_type": "stream",
     "text": [
      "c:\\Users\\Admin\\AppData\\Local\\Programs\\Python\\Python312\\Lib\\site-packages\\pydicom\\valuerep.py:440: UserWarning: Invalid value for VR UI: '01a1e85c56486eccd29f3e824e745c2a'. Please see <https://dicom.nema.org/medical/dicom/current/output/html/part05.html#table_6.2-1> for allowed values for each VR.\n",
      "  warn_and_log(msg)\n"
     ]
    }
   ],
   "source": [
    "import pydicom\n",
    "\n",
    "dicom_file = r\"D:\\vinbigdata-chest-xray-abnormalities-detection\\train\\01a1e85c56486eccd29f3e824e745c2a.dicom\"\n",
    "dicom = pydicom.dcmread(dicom_file)\n",
    "print(dicom)\n"
   ]
  },
  {
   "cell_type": "markdown",
   "metadata": {},
   "source": [
    "# Converts large-size png images to 224x224 each with resizing\n"
   ]
  },
  {
   "cell_type": "code",
   "execution_count": null,
   "metadata": {},
   "outputs": [
    {
     "name": "stdout",
     "output_type": "stream",
     "text": [
      "Resizing complete. All images saved to: D:\\vinbigdata-chest-xray-abnormalities-detection\\train_png_224\n"
     ]
    }
   ],
   "source": [
    "import os\n",
    "from PIL import Image\n",
    "from skimage.transform import resize\n",
    "import numpy as np\n",
    "\n",
    "# Define source and destination directories\n",
    "source_dir = r\"D:\\vinbigdata-chest-xray-abnormalities-detection\\train_png\"\n",
    "destination_dir = r\"D:\\vinbigdata-chest-xray-abnormalities-detection\\train_png_224\"\n",
    "\n",
    "if not os.path.exists(destination_dir):\n",
    "    os.makedirs(destination_dir)\n",
    "\n",
    "for filename in os.listdir(source_dir):\n",
    "    if filename.endswith(\".png\"):  # Process only PNG images\n",
    "        img_path = os.path.join(source_dir, filename)\n",
    "        img = Image.open(img_path)\n",
    "        \n",
    "        # Convert image to numpy array for resizing\n",
    "        img_array = np.array(img)\n",
    "        resized_array = resize(img_array, (224, 224), anti_aliasing=True)\n",
    "        \n",
    "        # Convert back to PIL Image and save\n",
    "        resized_img = Image.fromarray((resized_array * 255).astype(np.uint8))\n",
    "        resized_img.save(os.path.join(destination_dir, filename))\n",
    "\n",
    "print(\"Resizing complete. All images saved to:\", destination_dir)\n"
   ]
  },
  {
   "cell_type": "code",
   "execution_count": null,
   "metadata": {},
   "outputs": [],
   "source": []
  }
 ],
 "metadata": {
  "kernelspec": {
   "display_name": "Python 3",
   "language": "python",
   "name": "python3"
  },
  "language_info": {
   "codemirror_mode": {
    "name": "ipython",
    "version": 3
   },
   "file_extension": ".py",
   "mimetype": "text/x-python",
   "name": "python",
   "nbconvert_exporter": "python",
   "pygments_lexer": "ipython3",
   "version": "3.12.2"
  }
 },
 "nbformat": 4,
 "nbformat_minor": 2
}
