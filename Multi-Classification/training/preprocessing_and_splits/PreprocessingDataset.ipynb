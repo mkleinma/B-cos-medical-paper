{
 "cells": [
  {
   "cell_type": "code",
   "execution_count": null,
   "metadata": {},
   "outputs": [],
   "source": [
    "import pandas as pd\n",
    "\n",
    "df = pd.read_csv(r\"D:\\vinbigdata-chest-xray-abnormalities-detection\\train.csv\")\n",
    "\n",
    "classes = [\n",
    "    'Aortic enlargement',\n",
    "    'Atelectasis',\n",
    "    'Calcification',\n",
    "    'Cardiomegaly',\n",
    "    'Consolidation',\n",
    "    'ILD',\n",
    "    'Infiltration',\n",
    "    'Lung Opacity',\n",
    "    'Nodule/Mass',\n",
    "    'Other lesion',\n",
    "    'Pleural effusion',\n",
    "    'Pleural thickening',\n",
    "    'Pneumothorax',\n",
    "    'Pulmonary fibrosis'\n",
    "]\n",
    "\n",
    "output_df = df.groupby('image_id')['class_name'].agg(set).reset_index()\n",
    "for cls in classes:\n",
    "    output_df[cls] = output_df['class_name'].apply(lambda x: 1 if cls in x else 0)\n",
    "\n",
    "output_df = output_df.drop('class_name', axis=1)\n",
    "output_df.to_csv('output.csv', index=False)\n"
   ]
  },
  {
   "cell_type": "code",
   "execution_count": null,
   "metadata": {},
   "outputs": [],
   "source": []
  }
 ],
 "metadata": {
  "kernelspec": {
   "display_name": "Python 3",
   "language": "python",
   "name": "python3"
  },
  "language_info": {
   "codemirror_mode": {
    "name": "ipython",
    "version": 3
   },
   "file_extension": ".py",
   "mimetype": "text/x-python",
   "name": "python",
   "nbconvert_exporter": "python",
   "pygments_lexer": "ipython3",
   "version": "3.12.2"
  }
 },
 "nbformat": 4,
 "nbformat_minor": 2
}
