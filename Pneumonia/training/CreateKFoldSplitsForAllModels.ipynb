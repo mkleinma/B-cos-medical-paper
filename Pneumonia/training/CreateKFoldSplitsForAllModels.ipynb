{
 "cells": [
  {
   "cell_type": "code",
   "execution_count": 1,
   "metadata": {},
   "outputs": [
    {
     "name": "stdout",
     "output_type": "stream",
     "text": [
      "Number of rows where Target is 1 before grouping: 9555\n",
      "Number of rows where Target is 1 after grouping: 6012\n",
      "KFold splits saved to G:\\Meine Ablage\\Universität\\Master Thesis\\Pneumonia\\training\\splits\\splits_balanced_fix.pkl\n",
      "Class distribution:\n",
      "  No Lung Opacity (Target = 0): 20672\n",
      "  Lung Opacity (Target = 1): 6012\n"
     ]
    }
   ],
   "source": [
    "import pandas as pd\n",
    "from sklearn.model_selection import StratifiedKFold\n",
    "import numpy as np\n",
    "import pickle\n",
    "\n",
    "# Paths\n",
    "csv_path = r\"C:\\Users\\Admin\\Documents\\rsna-pneumonia-detection-challenge\\stage_2_train_labels.csv\"\n",
    "\n",
    "# Load data\n",
    "data = pd.read_csv(csv_path)\n",
    "\n",
    "num_target_1_before = (data[\"Target\"] == 1).sum()\n",
    "print(f\"Number of rows where Target is 1 before grouping: {num_target_1_before}\")\n",
    "\n",
    "# Aggregate by image ID to avoid duplicates \n",
    "data_grouped = data.groupby(\"patientId\")[\"Target\"].max().reset_index()\n",
    "data_grouped.to_csv(\"grouped_data.csv\", index=False)\n",
    "\n",
    "\n",
    "num_target_1_after = (data_grouped[\"Target\"] == 1).sum()\n",
    "print(f\"Number of rows where Target is 1 after grouping: {num_target_1_after}\")\n",
    "\n",
    "\n",
    "# Apply Stratified K-Fold on unique images\n",
    "skf = StratifiedKFold(n_splits=5, shuffle=True, random_state=42)\n",
    "splits = [(train_idx, val_idx) for train_idx, val_idx in skf.split(data_grouped.index, data_grouped[\"Target\"])]\n",
    "\n",
    "# Save fixed splits\n",
    "path = r\"G:\\Meine Ablage\\Universität\\Master Thesis\\Pneumonia\\training\\splits\\splits_balanced_fix.pkl\"\n",
    "with open(path, \"wb\") as f:\n",
    "    pickle.dump(splits, f)\n",
    "\n",
    "print(f\"KFold splits saved to {path}\")\n",
    "\n",
    "# Count number of samples per class\n",
    "class_counts = data_grouped[\"Target\"].value_counts()\n",
    "\n",
    "# Print results\n",
    "print(\"Class distribution:\")\n",
    "print(f\"  No Lung Opacity (Target = 0): {class_counts.get(0, 0)}\")\n",
    "print(f\"  Lung Opacity (Target = 1): {class_counts.get(1, 0)}\")\n",
    "\n"
   ]
  },
  {
   "cell_type": "code",
   "execution_count": 3,
   "metadata": {},
   "outputs": [
    {
     "name": "stdout",
     "output_type": "stream",
     "text": [
      "Fold 1:\n",
      "  Train indices (first 10): [ 0  1  2  3  4  5  8  9 10 11 12 13 15 16 17 18 19 20 21 23]\n",
      "  Validation indices (first 10): [ 6  7 14 22 24 26 30 35 38 42 43 46 54 57 58 62 75 87 95 98]\n",
      "  Total train: 21347, Total val: 5337\n",
      "\n",
      "Fold 2:\n",
      "  Train indices (first 10): [ 0  1  2  3  4  5  6  7  8  9 10 11 12 13 14 15 16 17 18 19]\n",
      "  Validation indices (first 10): [ 20  25  29  47  48  51  56  61  68  70  71  80 107 108 115 124 127 130\n",
      " 134 142]\n",
      "  Total train: 21347, Total val: 5337\n",
      "\n",
      "Fold 3:\n",
      "  Train indices (first 10): [ 0  2  4  5  6  7  9 10 12 13 14 15 19 20 21 22 23 24 25 26]\n",
      "  Validation indices (first 10): [ 1  3  8 11 16 17 18 28 31 40 44 49 52 60 64 65 66 69 81 84]\n",
      "  Total train: 21347, Total val: 5337\n",
      "\n",
      "Fold 4:\n",
      "  Train indices (first 10): [ 0  1  3  4  6  7  8  9 11 13 14 16 17 18 20 21 22 24 25 26]\n",
      "  Validation indices (first 10): [ 2  5 10 12 15 19 23 33 36 50 55 59 63 72 74 77 79 83 89 90]\n",
      "  Total train: 21347, Total val: 5337\n",
      "\n",
      "Fold 5:\n",
      "  Train indices (first 10): [ 1  2  3  5  6  7  8 10 11 12 14 15 16 17 18 19 20 22 23 24]\n",
      "  Validation indices (first 10): [ 0  4  9 13 21 27 32 34 37 39 41 45 53 67 73 76 78 82 85 96]\n",
      "  Total train: 21348, Total val: 5336\n",
      "\n"
     ]
    }
   ],
   "source": [
    "import pickle\n",
    "\n",
    "# Path to your old split file\n",
    "path = r\"G:\\Meine Ablage\\Universität\\Master Thesis\\Pneumonia\\training\\splits\\splits_balanced_fix.pkl\"\n",
    "\n",
    "# Load the pickle file\n",
    "with open(path, \"rb\") as f:\n",
    "    old_splits = pickle.load(f)\n",
    "\n",
    "# Print details of the splits\n",
    "for fold, (train_idx, val_idx) in enumerate(old_splits):\n",
    "    print(f\"Fold {fold + 1}:\")\n",
    "    print(f\"  Train indices (first 10): {train_idx[:20]}\")\n",
    "    print(f\"  Validation indices (first 10): {val_idx[:20]}\")\n",
    "    print(f\"  Total train: {len(train_idx)}, Total val: {len(val_idx)}\\n\")"
   ]
  },
  {
   "cell_type": "code",
   "execution_count": 8,
   "metadata": {},
   "outputs": [
    {
     "name": "stdout",
     "output_type": "stream",
     "text": [
      "\n",
      "Split 1:\n",
      "  Training set - No Lung Opacity (Target=0): 16537, Lung Opacity (Target=1): 4810\n",
      "  Validation set - No Lung Opacity (Target=0): 4135, Lung Opacity (Target=1): 1202\n",
      "\n",
      "Split 2:\n",
      "  Training set - No Lung Opacity (Target=0): 16537, Lung Opacity (Target=1): 4810\n",
      "  Validation set - No Lung Opacity (Target=0): 4135, Lung Opacity (Target=1): 1202\n",
      "\n",
      "Split 3:\n",
      "  Training set - No Lung Opacity (Target=0): 16538, Lung Opacity (Target=1): 4809\n",
      "  Validation set - No Lung Opacity (Target=0): 4134, Lung Opacity (Target=1): 1203\n",
      "\n",
      "Split 4:\n",
      "  Training set - No Lung Opacity (Target=0): 16538, Lung Opacity (Target=1): 4809\n",
      "  Validation set - No Lung Opacity (Target=0): 4134, Lung Opacity (Target=1): 1203\n",
      "\n",
      "Split 5:\n",
      "  Training set - No Lung Opacity (Target=0): 16538, Lung Opacity (Target=1): 4810\n",
      "  Validation set - No Lung Opacity (Target=0): 4134, Lung Opacity (Target=1): 1202\n"
     ]
    }
   ],
   "source": [
    "import pickle\n",
    "import pandas as pd\n",
    "\n",
    "csv_path = r\"C:\\Users\\Admin\\Documents\\rsna-pneumonia-detection-challenge\\stage_2_train_labels.csv\"\n",
    "\n",
    "# Load data\n",
    "data = pd.read_csv(csv_path)\n",
    "\n",
    "# Aggregate by image ID to avoid duplicates \n",
    "data_grouped = data.groupby(\"patientId\")[\"Target\"].max().reset_index()\n",
    "\n",
    "path = r\"C:\\Users\\Admin\\Downloads\\splits_balanced_fix.pkl\"\n",
    "with open(path, \"rb\") as f:\n",
    "    splits = pickle.load(f)\n",
    "\n",
    "for i, (train_idx, val_idx) in enumerate(splits):\n",
    "    train_data = data_grouped.iloc[train_idx]\n",
    "    val_data = data_grouped.iloc[val_idx]\n",
    "\n",
    "    train_counts = train_data[\"Target\"].value_counts()\n",
    "    val_counts = val_data[\"Target\"].value_counts()\n",
    "\n",
    "    print(f\"\\nSplit {i+1}:\")\n",
    "    print(f\"  Training set - No Lung Opacity (Target=0): {train_counts.get(0, 0)}, Lung Opacity (Target=1): {train_counts.get(1, 0)}\")\n",
    "    print(f\"  Validation set - No Lung Opacity (Target=0): {val_counts.get(0, 0)}, Lung Opacity (Target=1): {val_counts.get(1, 0)}\")\n"
   ]
  },
  {
   "cell_type": "code",
   "execution_count": 2,
   "metadata": {},
   "outputs": [
    {
     "name": "stdout",
     "output_type": "stream",
     "text": [
      "Label distribution in grouped_data.csv:\n",
      "No Lung Opacity (Target=0): 20672\n",
      "Lung Opacity (Target=1): 6012\n"
     ]
    }
   ],
   "source": [
    "import pandas as pd\n",
    "\n",
    "# Load the grouped data\n",
    "csv_path = r\"G:\\Meine Ablage\\Universität\\Master Thesis\\Pneumonia\\training\\grouped_data.csv\"\n",
    "data_grouped = pd.read_csv(csv_path)\n",
    "\n",
    "# Count occurrences of each label\n",
    "target_counts = data_grouped[\"Target\"].value_counts()\n",
    "\n",
    "# Print results\n",
    "print(\"Label distribution in grouped_data.csv:\")\n",
    "print(f\"No Lung Opacity (Target=0): {target_counts.get(0, 0)}\")\n",
    "print(f\"Lung Opacity (Target=1): {target_counts.get(1, 0)}\")"
   ]
  },
  {
   "cell_type": "code",
   "execution_count": null,
   "metadata": {},
   "outputs": [],
   "source": []
  }
 ],
 "metadata": {
  "kernelspec": {
   "display_name": "Python 3",
   "language": "python",
   "name": "python3"
  },
  "language_info": {
   "codemirror_mode": {
    "name": "ipython",
    "version": 3
   },
   "file_extension": ".py",
   "mimetype": "text/x-python",
   "name": "python",
   "nbconvert_exporter": "python",
   "pygments_lexer": "ipython3",
   "version": "3.12.2"
  }
 },
 "nbformat": 4,
 "nbformat_minor": 2
}
