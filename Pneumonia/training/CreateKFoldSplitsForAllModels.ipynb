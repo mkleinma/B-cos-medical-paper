{
 "cells": [
  {
   "cell_type": "code",
   "execution_count": 7,
   "metadata": {},
   "outputs": [
    {
     "name": "stdout",
     "output_type": "stream",
     "text": [
      "KFold splits saved to G:\\Meine Ablage\\Universität\\Master Thesis\\Pneumonia\\training\\splits\\splits_balanced.pkl\n"
     ]
    }
   ],
   "source": [
    "import pandas as pd\n",
    "from sklearn.model_selection import StratifiedKFold\n",
    "import numpy as np\n",
    "import pickle\n",
    "\n",
    "# Paths\n",
    "csv_path = r\"C:\\Users\\Admin\\Documents\\rsna-pneumonia-detection-challenge\\stage_2_train_labels.csv\"\n",
    "\n",
    "data = pd.read_csv(csv_path)\n",
    "skf = StratifiedKFold(n_splits=5, shuffle=True, random_state=42)\n",
    "splits = [(train_idx, val_idx) for train_idx, val_idx in skf.split(data.index, data['Target'])]\n",
    "path = r\"G:\\Meine Ablage\\Universität\\Master Thesis\\Pneumonia\\training\\splits\\splits_balanced.pkl\"\n",
    "\n",
    "with open(path, 'wb') as f:\n",
    "    pickle.dump(splits, f)\n",
    "\n",
    "print(f\"KFold splits saved to {path}\")\n"
   ]
  },
  {
   "cell_type": "code",
   "execution_count": 8,
   "metadata": {},
   "outputs": [
    {
     "name": "stdout",
     "output_type": "stream",
     "text": [
      "Fold 1:\n",
      "  Train indices: [ 0  1  2  3  5  6  7  8 10 11] ... (24181 total)\n",
      "  Val indices: [ 4  9 12 15 22 28 30 34 40 46] ... (6046 total)\n",
      "Fold 2:\n",
      "  Train indices: [ 0  1  2  3  4  6  7  9 10 11] ... (24181 total)\n",
      "  Val indices: [ 5  8 20 25 26 39 43 51 57 62] ... (6046 total)\n",
      "Fold 3:\n",
      "  Train indices: [ 0  2  4  5  6  7  8  9 11 12] ... (24182 total)\n",
      "  Val indices: [ 1  3 10 18 21 24 37 38 41 42] ... (6045 total)\n",
      "Fold 4:\n",
      "  Train indices: [ 0  1  3  4  5  6  8  9 10 11] ... (24182 total)\n",
      "  Val indices: [ 2  7 13 14 17 19 23 27 31 47] ... (6045 total)\n",
      "Fold 5:\n",
      "  Train indices: [ 1  2  3  4  5  7  8  9 10 12] ... (24182 total)\n",
      "  Val indices: [ 0  6 11 16 29 32 33 35 36 44] ... (6045 total)\n"
     ]
    }
   ],
   "source": [
    "# Read them as an example\n",
    "\n",
    "import pickle\n",
    "\n",
    "# Define the path to the saved splits file\n",
    "save_path = r\"G:\\Meine Ablage\\Universität\\Master Thesis\\Pneumonia\\training\\splits_balanced.pkl\"\n",
    "\n",
    "# Load the splits\n",
    "with open(path, 'rb') as f:\n",
    "    splits = pickle.load(f)\n",
    "\n",
    "# View the splits\n",
    "for fold_idx, (train_idx, val_idx) in enumerate(splits, 1):\n",
    "    print(f\"Fold {fold_idx}:\")\n",
    "    print(f\"  Train indices: {train_idx[:10]} ... ({len(train_idx)} total)\")\n",
    "    print(f\"  Val indices: {val_idx[:10]} ... ({len(val_idx)} total)\")\n"
   ]
  },
  {
   "cell_type": "code",
   "execution_count": null,
   "metadata": {},
   "outputs": [],
   "source": []
  },
  {
   "cell_type": "code",
   "execution_count": null,
   "metadata": {},
   "outputs": [],
   "source": []
  }
 ],
 "metadata": {
  "kernelspec": {
   "display_name": "Python 3",
   "language": "python",
   "name": "python3"
  },
  "language_info": {
   "codemirror_mode": {
    "name": "ipython",
    "version": 3
   },
   "file_extension": ".py",
   "mimetype": "text/x-python",
   "name": "python",
   "nbconvert_exporter": "python",
   "pygments_lexer": "ipython3",
   "version": "3.12.2"
  }
 },
 "nbformat": 4,
 "nbformat_minor": 2
}
