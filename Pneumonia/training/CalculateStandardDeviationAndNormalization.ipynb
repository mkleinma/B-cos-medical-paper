{
 "cells": [
  {
   "cell_type": "code",
   "execution_count": 5,
   "metadata": {},
   "outputs": [
    {
     "name": "stderr",
     "output_type": "stream",
     "text": [
      "100%|██████████| 834/834 [10:12<00:00,  1.36it/s]"
     ]
    },
    {
     "name": "stdout",
     "output_type": "stream",
     "text": [
      "Mean: [0.4901120066642761, 0.4901120066642761, 0.4901120066642761]\n",
      "Std: [0.24817368388175964, 0.24817368388175964, 0.24817368388175964]\n"
     ]
    },
    {
     "name": "stderr",
     "output_type": "stream",
     "text": [
      "\n"
     ]
    }
   ],
   "source": [
    "import os\n",
    "import torch\n",
    "import numpy as np\n",
    "from torch.utils.data import DataLoader\n",
    "from torchvision import transforms\n",
    "from tqdm import tqdm  # Progress bar\n",
    "import pandas as pd\n",
    "import pydicom\n",
    "from PIL import Image\n",
    "from torch.utils.data import Dataset, DataLoader\n",
    "\n",
    "\n",
    "csv_path = r\"G:\\Meine Ablage\\Universität\\Master Thesis\\Pneumonia\\training\\grouped_data.csv\"\n",
    "image_folder = r\"C:\\Users\\Admin\\Documents\\rsna-pneumonia-detection-challenge\\stage_2_train_images\"\n",
    "\n",
    "\n",
    "data = pd.read_csv(csv_path)\n",
    "\n",
    "# Dataset class for Pneumonia\n",
    "class PneumoniaDataset(Dataset):\n",
    "    def __init__(self, dataframe, image_folder, transform=None):\n",
    "        self.data = dataframe\n",
    "        self.image_folder = image_folder\n",
    "        self.transform = transform\n",
    "\n",
    "    def __len__(self):\n",
    "        return len(self.data)\n",
    "\n",
    "    def __getitem__(self, idx):\n",
    "        row = self.data.iloc[idx]\n",
    "        image_path = os.path.join(self.image_folder, f\"{row['patientId']}.dcm\")\n",
    "        label = row['Target']\n",
    "\n",
    "        # Load DICOM file and process it into RGB format\n",
    "        dicom = pydicom.dcmread(image_path)\n",
    "        image = dicom.pixel_array\n",
    "        image = Image.fromarray(image).convert(\"RGB\")\n",
    "        \n",
    "        if self.transform:\n",
    "            image = self.transform(image)\n",
    "\n",
    "        return image, torch.tensor(label, dtype=torch.long)\n",
    "\n",
    "\n",
    "# Define dataset without normalization\n",
    "transform = transforms.Compose([\n",
    "    transforms.ToTensor(),  # Convert to tensor (scales to [0,1])\n",
    "])\n",
    "\n",
    "# Load dataset\n",
    "dataset = PneumoniaDataset(dataframe=data, image_folder=image_folder, transform=transform)\n",
    "dataloader = DataLoader(dataset, batch_size=32, shuffle=False)\n",
    "\n",
    "# Compute mean and std\n",
    "mean = torch.zeros(3)\n",
    "std = torch.zeros(3)\n",
    "num_pixels = 0\n",
    "\n",
    "for images, _ in tqdm(dataloader):\n",
    "    batch_pixels = images.size(0) * images.size(2) * images.size(3)  # B x H x W\n",
    "    mean += images.sum(dim=[0, 2, 3])\n",
    "    std += (images ** 2).sum(dim=[0, 2, 3])\n",
    "    num_pixels += batch_pixels\n",
    "\n",
    "mean /= num_pixels\n",
    "std = torch.sqrt(std / num_pixels - mean ** 2)  # Standard deviation formula\n",
    "\n",
    "print(f\"Mean: {mean.tolist()}\")\n",
    "print(f\"Std: {std.tolist()}\")\n"
   ]
  }
 ],
 "metadata": {
  "kernelspec": {
   "display_name": "Python 3",
   "language": "python",
   "name": "python3"
  },
  "language_info": {
   "codemirror_mode": {
    "name": "ipython",
    "version": 3
   },
   "file_extension": ".py",
   "mimetype": "text/x-python",
   "name": "python",
   "nbconvert_exporter": "python",
   "pygments_lexer": "ipython3",
   "version": "3.12.2"
  }
 },
 "nbformat": 4,
 "nbformat_minor": 2
}
