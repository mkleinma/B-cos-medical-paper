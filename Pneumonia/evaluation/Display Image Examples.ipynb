{
 "cells": [
  {
   "cell_type": "code",
   "execution_count": 3,
   "metadata": {},
   "outputs": [
    {
     "name": "stdout",
     "output_type": "stream",
     "text": [
      "Image successfully saved to C:\\Users\\Admin\\Pictures\\0678ff6a-7402-4065-8566-be18d983fbbf.png\n"
     ]
    }
   ],
   "source": [
    "import pydicom\n",
    "import cv2\n",
    "import os\n",
    "\n",
    "dicom_file = r\"C:\\Users\\Admin\\Documents\\rsna-pneumonia-detection-challenge\\stage_2_train_images\\0678ff6a-7402-4065-8566-be18d983fbbf.dcm\"\n",
    "save_path = r\"C:\\Users\\Admin\\Pictures\\0678ff6a-7402-4065-8566-be18d983fbbf.png\"\n",
    "\n",
    "try:\n",
    "    # Load DICOM file\n",
    "    dicom_data = pydicom.dcmread(dicom_file)\n",
    "    image = dicom_data.pixel_array\n",
    "    \n",
    "    # Resize and normalize\n",
    "    resized_image = cv2.resize(image, (369, 369), interpolation=cv2.INTER_AREA)\n",
    "    normalized_image = cv2.normalize(resized_image, None, 0, 255, cv2.NORM_MINMAX, dtype=cv2.CV_8U)\n",
    "    \n",
    "    # Ensure directory exists\n",
    "    os.makedirs(os.path.dirname(save_path), exist_ok=True)\n",
    "    \n",
    "    # Save image without any metadata or artifacts\n",
    "    cv2.imwrite(save_path, normalized_image)\n",
    "    print(f\"Image successfully saved to {save_path}\")\n",
    "\n",
    "except FileNotFoundError:\n",
    "    print(f\"Error: The file '{dicom_file}' was not found.\")\n",
    "except Exception as e:\n",
    "    print(f\"An error occurred: {str(e)}\")\n",
    "\n"
   ]
  },
  {
   "cell_type": "code",
   "execution_count": null,
   "metadata": {},
   "outputs": [],
   "source": []
  }
 ],
 "metadata": {
  "kernelspec": {
   "display_name": "Python 3",
   "language": "python",
   "name": "python3"
  },
  "language_info": {
   "codemirror_mode": {
    "name": "ipython",
    "version": 3
   },
   "file_extension": ".py",
   "mimetype": "text/x-python",
   "name": "python",
   "nbconvert_exporter": "python",
   "pygments_lexer": "ipython3",
   "version": "3.12.2"
  }
 },
 "nbformat": 4,
 "nbformat_minor": 2
}
