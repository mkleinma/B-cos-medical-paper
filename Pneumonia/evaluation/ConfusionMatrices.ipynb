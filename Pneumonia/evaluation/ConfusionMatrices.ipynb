{
 "cells": [
  {
   "cell_type": "markdown",
   "id": "93f297ce",
   "metadata": {},
   "source": [
    "# Display of the confusion matrices from BioMedParse"
   ]
  },
  {
   "cell_type": "code",
   "execution_count": null,
   "id": "365d8299",
   "metadata": {},
   "outputs": [],
   "source": [
    "import os\n",
    "from PIL import Image\n",
    "import matplotlib.pyplot as plt\n",
    "\n",
    "folder_path = r'C:\\Users\\Admin\\Downloads\\wah'\n",
    "\n",
    "# Alle passenden Dateien sortiert auflisten\n",
    "image_files = sorted([f for f in os.listdir(folder_path) if f.startswith('confusion_matrix_')])[:14]\n",
    "\n",
    "# Bilder laden\n",
    "images = [Image.open(os.path.join(folder_path, f)) for f in image_files]\n",
    "\n",
    "# Anzahl der Spalten und Reihen berechnen\n",
    "cols = 3\n",
    "rows = (len(images) + cols - 1) // cols  # Aufrunden\n",
    "\n",
    "fig, axes = plt.subplots(rows, cols, figsize=(cols * 5, rows * 5))\n",
    "\n",
    "for idx, ax in enumerate(axes.flat):\n",
    "    if idx < len(images):\n",
    "        ax.imshow(images[idx])\n",
    "        ax.axis('off')\n",
    "    else:\n",
    "        ax.axis('off')  # Leere Felder ausblenden\n",
    "\n",
    "plt.tight_layout()\n",
    "plt.show()\n",
    "\n"
   ]
  },
  {
   "cell_type": "code",
   "execution_count": null,
   "id": "b17d4daf",
   "metadata": {},
   "outputs": [],
   "source": []
  },
  {
   "cell_type": "code",
   "execution_count": null,
   "id": "98049113",
   "metadata": {},
   "outputs": [],
   "source": []
  }
 ],
 "metadata": {
  "kernelspec": {
   "display_name": "Python 3",
   "language": "python",
   "name": "python3"
  },
  "language_info": {
   "name": "python",
   "version": "3.12.2"
  }
 },
 "nbformat": 4,
 "nbformat_minor": 5
}
