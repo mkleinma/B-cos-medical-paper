{
 "cells": [
  {
   "cell_type": "markdown",
   "metadata": {},
   "source": [
    "# Evaluation of Logs\n",
    "Tensorboard logs play a huge role in evaluating our model performance\n",
    "This script focuses on getting the necessary information from a log directory to have educated information on the model performance."
   ]
  },
  {
   "cell_type": "code",
   "execution_count": 6,
   "metadata": {},
   "outputs": [
    {
     "name": "stdout",
     "output_type": "stream",
     "text": [
      "Available scalars: ['Loss/Train', 'Accuracy/Train', 'Loss/Validation', 'Accuracy/Validation', 'Metrics/Precision', 'Metrics/Recall', 'Metrics/F1', 'Metrics/AUC', 'Learning_Rate']\n",
      "Mean Average Precision (mAP): 0.7615803480148315\n",
      "Min Precision: 0.6440078616142273\n",
      "Max Precision: 0.8868072032928467\n",
      "\n",
      "Mean Accuracy: 0.8490406890710195\n",
      "Min Accuracy: 0.8051604628562927\n",
      "Max Accuracy: 0.8685081005096436\n",
      "\n",
      "Corresponding Accuracy: 0.8621\n",
      "Corresponding Precision: 0.7894\n",
      "Corresponding Recall: 0.7687\n",
      "Highest F1 Score: 0.7789 at Epoch 18\n",
      "Corresponding AUC: 0.9098\n"
     ]
    }
   ],
   "source": [
    "import os\n",
    "import numpy as np\n",
    "from tensorboard.backend.event_processing.event_accumulator import EventAccumulator\n",
    "\n",
    "log_dir = r\"C:\\Users\\Admin\\Documents\\MasterThesis\\results\\ResNet_BCos_224\\seed_0\\tensorboard_logs_fold_1\"\n",
    "event_acc = EventAccumulator(log_dir)\n",
    "event_acc.Reload()\n",
    "\n",
    "# List all available scalars\n",
    "available_tags = event_acc.Tags()[\"scalars\"]\n",
    "print(\"Available scalars:\", available_tags)\n",
    "\n",
    "# Extract scalar values per epoch\n",
    "precision_values = event_acc.Scalars(\"Metrics/Precision\")\n",
    "accuracy_values = event_acc.Scalars(\"Accuracy/Validation\")\n",
    "f1_values = event_acc.Scalars(\"Metrics/F1\")\n",
    "recall_values = event_acc.Scalars(\"Metrics/Recall\")\n",
    "auc_values = event_acc.Scalars(\"Metrics/AUC\")\n",
    "\n",
    "\n",
    "# Get epoch-wise values\n",
    "epochs = [x.step for x in precision_values]\n",
    "accuracy_scores = [x.value for x in accuracy_values]\n",
    "f1_scores = [x.value for x in f1_values]\n",
    "precision_scores = [x.value for x in precision_values]  # Convert to list\n",
    "recall_scores = [x.value for x in recall_values]  # Convert to list\n",
    "\n",
    "# Compute mean, min, max precision\n",
    "mean_precision = np.mean(precision_scores)\n",
    "minimum_precision = np.min(precision_scores)\n",
    "maximum_precision = np.max(precision_scores)\n",
    "\n",
    "print(f\"Mean Average Precision (mAP): {mean_precision}\")\n",
    "print(f\"Min Precision: {minimum_precision}\")\n",
    "print(f\"Max Precision: {maximum_precision}\")\n",
    "\n",
    "# Compute mean, min, max accuracy\n",
    "mean_accuracy = np.mean(accuracy_scores)\n",
    "minimum_accuracy = np.min(accuracy_scores)\n",
    "maximum_accuracy = np.max(accuracy_scores)\n",
    "\n",
    "print()\n",
    "print(f\"Mean Accuracy: {mean_accuracy}\")\n",
    "print(f\"Min Accuracy: {minimum_accuracy}\")\n",
    "print(f\"Max Accuracy: {maximum_accuracy}\")\n",
    "\n",
    "# Find best epoch based on highest F1 score\n",
    "best_f1_idx = np.argmax(f1_scores)\n",
    "best_epoch = epochs[best_f1_idx]\n",
    "best_f1 = f1_scores[best_f1_idx]\n",
    "\n",
    "# Get corresponding precision and recall for that epoch\n",
    "best_precision = precision_values[best_f1_idx].value\n",
    "best_recall = recall_values[best_f1_idx].value\n",
    "best_accuracy = accuracy_values[best_f1_idx].value\n",
    "best_auc = auc_values[best_f1_idx].value\n",
    "\n",
    "best_precision = round(best_precision, 4)\n",
    "best_recall = round(best_recall, 4)\n",
    "best_accuracy = round(best_accuracy, 4)\n",
    "best_auc = round(best_auc, 4)\n",
    "best_f1 = round(best_f1, 4)\n",
    "\n",
    "print()\n",
    "print(f\"Corresponding Accuracy: {best_accuracy}\")\n",
    "print(f\"Corresponding Precision: {best_precision}\")\n",
    "print(f\"Corresponding Recall: {best_recall}\")\n",
    "print(f\"Highest F1 Score: {best_f1} at Epoch {best_epoch}\")\n",
    "print(f\"Corresponding AUC: {best_auc}\")"
   ]
  },
  {
   "cell_type": "code",
   "execution_count": null,
   "metadata": {},
   "outputs": [],
   "source": []
  }
 ],
 "metadata": {
  "kernelspec": {
   "display_name": "Python 3",
   "language": "python",
   "name": "python3"
  },
  "language_info": {
   "codemirror_mode": {
    "name": "ipython",
    "version": 3
   },
   "file_extension": ".py",
   "mimetype": "text/x-python",
   "name": "python",
   "nbconvert_exporter": "python",
   "pygments_lexer": "ipython3",
   "version": "3.12.2"
  }
 },
 "nbformat": 4,
 "nbformat_minor": 2
}
