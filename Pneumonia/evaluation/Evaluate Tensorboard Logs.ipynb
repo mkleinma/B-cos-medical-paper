{
 "cells": [
  {
   "cell_type": "markdown",
   "metadata": {},
   "source": [
    "# Evaluation of Logs\n",
    "Tensorboard logs play a huge role in evaluating our model performance\n",
    "This script focuses on getting the necessary information from a log directory to have educated information on the model performance."
   ]
  },
  {
   "cell_type": "code",
   "execution_count": 1,
   "metadata": {},
   "outputs": [
    {
     "name": "stdout",
     "output_type": "stream",
     "text": [
      "Available scalars: ['Loss/Train', 'Accuracy/Train', 'Loss/Validation', 'Accuracy/Validation', 'Metrics/Precision', 'Metrics/Recall', 'Metrics/F1', 'Metrics/AUC', 'Learning_Rate']\n",
      "Mean Average Precision (mAP): 0.7629269083340963\n",
      "Min Precision (mAP): 0.5970304012298584\n",
      "Max Precision (mAP): 0.805152952671051\n",
      "\n",
      "Mean Average Accuracy (mAP): 0.8539475123087565\n",
      "Min Accuracy (mAP): 0.7768772840499878\n",
      "Max Accuracy (mAP): 0.8719815015792847\n"
     ]
    }
   ],
   "source": [
    "import os\n",
    "import numpy as np\n",
    "from tensorboard.backend.event_processing.event_accumulator import EventAccumulator\n",
    "\n",
    "# Path to your TensorBoard logs\n",
    "log_dir = r\"C:\\Users\\Admin\\Downloads\\tesnorboard_logs_fold_1\"\n",
    "# Initialize event accumulator\n",
    "event_acc = EventAccumulator(log_dir)\n",
    "event_acc.Reload()\n",
    "\n",
    "# List all available scalars\n",
    "available_tags = event_acc.Tags()[\"scalars\"]\n",
    "print(\"Available scalars:\", available_tags)\n",
    "\n",
    "# Extract precision values per epoch (assuming it's logged under \"precision\")\n",
    "precision_values = event_acc.Scalars(\"Metrics/Precision\")\n",
    "accuracy_values = event_acc.Scalars(\"Accuracy/Validation\")\n",
    "\n",
    "# Get epoch-wise values\n",
    "epochs = [x.step for x in precision_values]\n",
    "precision_scores = [x.value for x in precision_values]\n",
    "accuracy_scores = [x.value for x in accuracy_values]\n",
    "\n",
    "\n",
    "# Compute mean average precision (mAP)\n",
    "mean_precision = np.mean(precision_scores)\n",
    "minimum_precision = np.min(precision_scores)\n",
    "maximum_precision = np.max(precision_scores)\n",
    "print(f\"Mean Average Precision (mAP): {mean_precision}\")\n",
    "print(f\"Min Precision (mAP): {minimum_precision}\")\n",
    "print(f\"Max Precision (mAP): {maximum_precision}\")\n",
    "\n",
    "mean_accuracy = np.mean(accuracy_scores)\n",
    "minimum_accuracy = np.min(accuracy_scores)\n",
    "maximum_accuracy = np.max(accuracy_scores)\n",
    "\n",
    "print()\n",
    "print(f\"Mean Average Accuracy (mAP): {mean_accuracy}\")\n",
    "print(f\"Min Accuracy (mAP): {minimum_accuracy}\")\n",
    "print(f\"Max Accuracy (mAP): {maximum_accuracy}\")\n"
   ]
  }
 ],
 "metadata": {
  "kernelspec": {
   "display_name": "Python 3",
   "language": "python",
   "name": "python3"
  },
  "language_info": {
   "codemirror_mode": {
    "name": "ipython",
    "version": 3
   },
   "file_extension": ".py",
   "mimetype": "text/x-python",
   "name": "python",
   "nbconvert_exporter": "python",
   "pygments_lexer": "ipython3",
   "version": "3.12.2"
  }
 },
 "nbformat": 4,
 "nbformat_minor": 2
}
